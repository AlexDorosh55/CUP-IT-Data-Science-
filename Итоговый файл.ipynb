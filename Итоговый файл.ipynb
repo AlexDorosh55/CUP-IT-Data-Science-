{
 "cells": [
  {
   "cell_type": "markdown",
   "id": "304ccbb8",
   "metadata": {},
   "source": [
    "# Кейс от VK: Ранжирование комментариев"
   ]
  },
  {
   "cell_type": "code",
   "execution_count": 1,
   "id": "5e6bdab5",
   "metadata": {},
   "outputs": [
    {
     "name": "stderr",
     "output_type": "stream",
     "text": [
      "[nltk_data] Downloading package punkt to\n",
      "[nltk_data]     C:\\Users\\Admin\\AppData\\Roaming\\nltk_data...\n",
      "[nltk_data]   Package punkt is already up-to-date!\n",
      "[nltk_data] Downloading package averaged_perceptron_tagger to\n",
      "[nltk_data]     C:\\Users\\Admin\\AppData\\Roaming\\nltk_data...\n",
      "[nltk_data]   Package averaged_perceptron_tagger is already up-to-\n",
      "[nltk_data]       date!\n",
      "[nltk_data] Downloading package wordnet to\n",
      "[nltk_data]     C:\\Users\\Admin\\AppData\\Roaming\\nltk_data...\n",
      "[nltk_data]   Package wordnet is already up-to-date!\n",
      "[nltk_data] Downloading package vader_lexicon to\n",
      "[nltk_data]     C:\\Users\\Admin\\AppData\\Roaming\\nltk_data...\n",
      "[nltk_data]   Package vader_lexicon is already up-to-date!\n"
     ]
    }
   ],
   "source": [
    "# Основные библиотеки\n",
    "import pandas as pd\n",
    "import os\n",
    "import numpy as np\n",
    "from tqdm import notebook\n",
    "import warnings\n",
    "\n",
    "# Предобработка текста\n",
    "import re\n",
    "import torch\n",
    "import transformers\n",
    "import nltk\n",
    "import language_tool_python\n",
    "import spacy\n",
    "import en_core_web_trf\n",
    "from ipyparallel import require\n",
    "\n",
    "from sklearn.feature_extraction.text import CountVectorizer\n",
    "from sklearn.feature_extraction.text import TfidfVectorizer\n",
    "\n",
    "from nltk.corpus import stopwords\n",
    "from nltk.tokenize import sent_tokenize\n",
    "from nltk.stem import WordNetLemmatizer\n",
    "from nltk.sentiment.vader import SentimentIntensityAnalyzer\n",
    "from nltk.corpus import wordnet\n",
    "\n",
    "# Загрузка необходимых файлов \n",
    "nltk.download('punkt')\n",
    "nltk.download('averaged_perceptron_tagger')\n",
    "nltk.download('wordnet')\n",
    "nltk.download('vader_lexicon')\n",
    "grammar_tool = language_tool_python.LanguageTool('en-US')\n",
    "nlp = spacy.load(\"en_core_web_trf\")\n",
    "warnings.filterwarnings(\"ignore\")\n",
    "\n",
    "\n",
    "# Визуализация\n",
    "import matplotlib.pyplot as plt\n",
    "import seaborn as sns\n",
    "\n",
    "# Машинное обучение\n",
    "from sklearn.model_selection import train_test_split\n",
    "from sklearn.linear_model import LogisticRegression\n",
    "from sklearn.metrics import accuracy_score, make_scorer\n",
    "from catboost import CatBoostRegressor, Pool"
   ]
  },
  {
   "cell_type": "markdown",
   "id": "7a16e73b",
   "metadata": {},
   "source": [
    "## Исследовательский анализ"
   ]
  },
  {
   "cell_type": "markdown",
   "id": "59851a8a",
   "metadata": {},
   "source": [
    "## Распаковка данных "
   ]
  },
  {
   "cell_type": "markdown",
   "id": "8c39fdd8",
   "metadata": {},
   "source": [
    "Распакуем данные из исходного файла ranking_train.jsonl в удобный для нас вид - DataFrame"
   ]
  },
  {
   "cell_type": "code",
   "execution_count": 2,
   "id": "9269dee5",
   "metadata": {},
   "outputs": [
    {
     "data": {
      "application/vnd.jupyter.widget-view+json": {
       "model_id": "7ce5e8de803c46aa8435c8e38ab4d729",
       "version_major": 2,
       "version_minor": 0
      },
      "text/plain": [
       "  0%|          | 0/200 [00:00<?, ?it/s]"
      ]
     },
     "metadata": {},
     "output_type": "display_data"
    }
   ],
   "source": [
    "full_train = pd.read_json('datasets/ranking_train.jsonl', lines= True)\n",
    "\n",
    "small_train = full_train.loc[:199].reset_index(drop=True)\n",
    "\n",
    "pre_train = pd.DataFrame(columns=['comment', 'score'])\n",
    "for row in notebook.tqdm(range(len(small_train))):\n",
    "    set_of_comments = pd.DataFrame.from_dict(small_train['comments'][row])\n",
    "    set_of_comments = set_of_comments.rename(columns={'text':'comment'})\n",
    "    pre_train = pd.concat([pre_train, set_of_comments], ignore_index=True)\n",
    "pre_train[\"comment\"] = pre_train[\"comment\"].replace(0, np.nan).bfill()\n",
    "\n",
    "pre_train['score'] = pre_train['score'].astype(str).astype(int)"
   ]
  },
  {
   "cell_type": "markdown",
   "id": "911251d1",
   "metadata": {},
   "source": [
    "## Создаем необходимые функции для подсчета значимых признаков "
   ]
  },
  {
   "cell_type": "markdown",
   "id": "c0e58cb4",
   "metadata": {},
   "source": [
    "### Определил функции для подсчета всего нужного.\n",
    "Первая группа для отдельного подсчета:  \n",
    "1. count_words - Подсчет кол-ва слов\n",
    "2. avg_word_length - Подсчет средней длины слова\n",
    "3. stop_words - Подсчет кол-ва стоп-слов\n",
    "4. count_sentences - Подсчет кол-ва предложений.\n",
    "5. avg_sentence_length - Подсчет средней длины предложений в словах.\n",
    "6. count_punctuation - Подсчет знаков препинания \n",
    "7. count_special_chars - Подсчет иных знаков(букв, знаков препинания и пробелов)\n",
    "8. count_uppercase - Подсчет заглавных букв  \n",
    " \n",
    "Вторая группа для подсчета переменных, составляющих индексы:   \n",
    "9. gunning_fog_s - Индекс читаемости Ганнинга для оценки читаемости текста   \n",
    "10. smog_s - Индекс удобочитаемости   \n",
    "11. coleman_liau_s - Индекс удобочитаемости Колман - Лиау   \n",
    "12. count_grammar - Подсчет кол-ва ошибок   \n",
    "13. vader_compound_score - Индекс \"настроения\"   \n",
    "14. count_n_grams - Подсчет количества биграмм  "
   ]
  },
  {
   "cell_type": "code",
   "execution_count": 3,
   "id": "00da9f2d",
   "metadata": {},
   "outputs": [],
   "source": [
    "#Функции для отдельного подсчета\n",
    "def count_words(comment):\n",
    "    #split into sen by RegExp\n",
    "    sentences = re.findall(r'(?<!\\w\\.\\w.)(?<![A-Z][a-z]\\.)(?<=\\.|\\?)\\s', comment)\n",
    "\n",
    "    if len(sentences) == 0:\n",
    "        sentences.append(comment)\n",
    "    else:\n",
    "        sentences.append(comment[len(sentences[-1]):])\n",
    "    \n",
    "    # del punctuation marks except for apostrophe and hyphen from each sentence\n",
    "    for i in range(len(sentences)):\n",
    "        sentences[i] = re.sub(r'[^\\w\\s\\'-]', '', sentences[i])\n",
    "    \n",
    "    # each sen split in words by RegExp\n",
    "    words = []\n",
    "    for sentence in sentences:\n",
    "        words += re.findall(r'\\b\\w+\\b', sentence)\n",
    "    \n",
    "    # return avg word len\n",
    "    return len(words) if len(words) > 0 else 0\n",
    "\n",
    "def avg_word_length(comment):\n",
    "    #split into sen by RegExp\n",
    "    sentences = re.findall(r'(?<!\\w\\.\\w.)(?<![A-Z][a-z]\\.)(?<=\\.|\\?)\\s', comment)\n",
    "\n",
    "    if len(sentences) == 0:\n",
    "        sentences.append(comment)\n",
    "    else:\n",
    "        sentences.append(comment[len(sentences[-1]):])\n",
    "    \n",
    "    # del punctuation marks except for apostrophe and hyphen from each sentence\n",
    "    for i in range(len(sentences)):\n",
    "        sentences[i] = re.sub(r'[^\\w\\s\\'-]', '', sentences[i])\n",
    "    \n",
    "    # each sen split in words by RegExp\n",
    "    words = []\n",
    "    for sentence in sentences:\n",
    "        words += re.findall(r'\\b\\w+\\b', sentence)\n",
    "    \n",
    "    # return avg word len\n",
    "    return sum(len(word) for word in words) / len(words) if len(words) > 0 else 0\n",
    "\n",
    "def stop_words(comment):\n",
    "    stop_words = set(stopwords.words('english'))\n",
    "    common_words = set(comment.split()) & stop_words\n",
    "    return len(common_words)\n",
    "\n",
    "def count_sentences(comment):\n",
    "    # the same operation like in previos func\n",
    "    sentences = re.findall(r'(?<!\\w\\.\\w.)(?<![A-Z][a-z]\\.)(?<=\\.|\\?|\\!)\\s', comment)\n",
    "    if len(sentences) == 0:\n",
    "        return 1\n",
    "    else:\n",
    "        return len(sentences)\n",
    "\n",
    "def avg_sentence_length(comment):\n",
    "    sentences = re.findall(r'(?<!\\w\\.\\w.)(?<![A-Z][a-z]\\.)(?<=\\.|\\?)\\s', comment)\n",
    "    if len(sentences) == 0:\n",
    "        sentences.append(comment)\n",
    "    else:\n",
    "        sentences.append(comment[len(sentences[-1]):])\n",
    "\n",
    "    for i in range(len(sentences)):\n",
    "        sentences[i] = re.sub(r'[^\\w\\s\\'-]', '', sentences[i])\n",
    "\n",
    "    # split each sen into words using RegExp and count the number of words\n",
    "    sentence_lengths = []\n",
    "    for sentence in sentences:\n",
    "        words = re.findall(r'\\b\\w+\\b', sentence)\n",
    "        sentence_lengths.append(len(words))\n",
    "\n",
    "    # calculate the average length of each sentence in words\n",
    "    avg_lengths = sum(sentence_lengths) / len(sentence_lengths) if len(sentence_lengths) > 0 else 0\n",
    "\n",
    "    return avg_lengths\n",
    "\n",
    "def count_punctuation(comment):\n",
    "    # count the number of punctuation marks in sen usin string\n",
    "    punctuation_count = sum([1 for char in comment if char in ['!', '\"', \"'\", '(', ')', ',', '-', '.', ':', ';', '?', '[', ']', '`']    ])\n",
    "    return punctuation_count\n",
    "\n",
    "def count_special_chars(comment):\n",
    "    pattern = r\"[^\\w\\s]\"\n",
    "    count = len(re.findall(pattern, comment))\n",
    "    return count\n",
    "\n",
    "def count_uppercase(sentence):\n",
    "    # same, but usin isUpper\n",
    "    uppercase_count = sum([1 for char in sentence if char.isupper()])\n",
    "    return uppercase_count\n",
    "\n",
    "\n",
    "#Функции для подсчета переменных, составляющих индексы\n",
    "\n",
    "def gunning_fog_s(comment):\n",
    "    words = re.findall(r'\\w+', comment)\n",
    "    sentences = re.split(r'[.!?]+', comment)\n",
    "    complex_words = len([word for word in words if len(word) >= 3 and len(re.findall(r'[aeiouy]+', word.lower())) >= 3])\n",
    "    if (len(sentences) == 0 or len(words) == 0): \n",
    "        return 20\n",
    "    else:\n",
    "        return 0.4 * ((len(words) / len(sentences)) + 100 * (complex_words / len(words)))\n",
    "\n",
    "def smog_s(comment):\n",
    "    import numpy as np\n",
    "    words = re.findall(r'\\w+', comment)\n",
    "    sentences = re.split(r'[.!?]+', comment)\n",
    "    poly_syllable_words = len([word for word in words if len(re.findall(r'[aiouy][aeiouy]{0,}', word.lower())) >= 3])\n",
    "    if(len(sentences) == 0): return 38\n",
    "    return 1.043 * np.sqrt(poly_syllable_words * (30 / len(sentences))) + 3.1291\n",
    "\n",
    "def coleman_liau_s(comment):\n",
    "    characters = len([char for char in comment if char.isalnum()])\n",
    "    words = len(re.findall(r'\\w+', comment))\n",
    "    sentences = len(re.split(r'[.!?]+', comment))\n",
    "    if (words == 0): return 17\n",
    "    return 0.0588 * (characters / words) * 100 - 0.296 * (sentences / words) * 100 - 15.8\n",
    "\n",
    "def count_grammar(comment):\n",
    "    matches = grammar_tool.check(comment)\n",
    "    return len(matches)\n",
    "\n",
    "def vader_compound_score(comment):\n",
    "    from nltk.sentiment.vader import SentimentIntensityAnalyzer\n",
    "    vader = SentimentIntensityAnalyzer()\n",
    "    return vader.polarity_scores(comment)['compound']\n",
    "\n",
    "def count_n_grams(row):\n",
    "    bgs = nltk.bigrams(row)\n",
    "    return sum((nltk.FreqDist(bgs)).values())\n",
    "\n",
    "def decode_for_uncode(row):\n",
    "    return row.encode('ascii').decode('unicode-escape')\n"
   ]
  },
  {
   "cell_type": "markdown",
   "id": "d626fe29",
   "metadata": {},
   "source": [
    "## Добавление новых столбцов"
   ]
  },
  {
   "cell_type": "markdown",
   "id": "505c3f78",
   "metadata": {},
   "source": [
    "Добавим столбцы для которых не требуется лемматизация"
   ]
  },
  {
   "cell_type": "code",
   "execution_count": 4,
   "id": "bd91e104",
   "metadata": {},
   "outputs": [
    {
     "data": {
      "application/vnd.jupyter.widget-view+json": {
       "model_id": "56bc602e5846403bb0f56783a493b0ef",
       "version_major": 2,
       "version_minor": 0
      },
      "text/plain": [
       "  0%|          | 0/1000 [00:00<?, ?it/s]"
      ]
     },
     "metadata": {},
     "output_type": "display_data"
    },
    {
     "data": {
      "application/vnd.jupyter.widget-view+json": {
       "model_id": "9565286091c445288e706f1489839c34",
       "version_major": 2,
       "version_minor": 0
      },
      "text/plain": [
       "  0%|          | 0/1000 [00:00<?, ?it/s]"
      ]
     },
     "metadata": {},
     "output_type": "display_data"
    },
    {
     "data": {
      "application/vnd.jupyter.widget-view+json": {
       "model_id": "59f8132249f2456cb3ff0fb5ea30f0e1",
       "version_major": 2,
       "version_minor": 0
      },
      "text/plain": [
       "  0%|          | 0/1000 [00:00<?, ?it/s]"
      ]
     },
     "metadata": {},
     "output_type": "display_data"
    },
    {
     "data": {
      "application/vnd.jupyter.widget-view+json": {
       "model_id": "478b5f54ac7e481dbfcea3b3d33a5220",
       "version_major": 2,
       "version_minor": 0
      },
      "text/plain": [
       "  0%|          | 0/1000 [00:00<?, ?it/s]"
      ]
     },
     "metadata": {},
     "output_type": "display_data"
    },
    {
     "data": {
      "application/vnd.jupyter.widget-view+json": {
       "model_id": "408f895a91854679af583618c993e12d",
       "version_major": 2,
       "version_minor": 0
      },
      "text/plain": [
       "  0%|          | 0/1000 [00:00<?, ?it/s]"
      ]
     },
     "metadata": {},
     "output_type": "display_data"
    },
    {
     "data": {
      "application/vnd.jupyter.widget-view+json": {
       "model_id": "e808d47369b2450881017428ddb06535",
       "version_major": 2,
       "version_minor": 0
      },
      "text/plain": [
       "  0%|          | 0/1000 [00:00<?, ?it/s]"
      ]
     },
     "metadata": {},
     "output_type": "display_data"
    },
    {
     "data": {
      "application/vnd.jupyter.widget-view+json": {
       "model_id": "7d3a340d838f447ab75807754ac08787",
       "version_major": 2,
       "version_minor": 0
      },
      "text/plain": [
       "  0%|          | 0/1000 [00:00<?, ?it/s]"
      ]
     },
     "metadata": {},
     "output_type": "display_data"
    },
    {
     "data": {
      "application/vnd.jupyter.widget-view+json": {
       "model_id": "a01e3bc54ad6492c9d961f8622eb1202",
       "version_major": 2,
       "version_minor": 0
      },
      "text/plain": [
       "  0%|          | 0/1000 [00:00<?, ?it/s]"
      ]
     },
     "metadata": {},
     "output_type": "display_data"
    },
    {
     "data": {
      "application/vnd.jupyter.widget-view+json": {
       "model_id": "5b9500c1202c4158b3ec7ccf6964c0b8",
       "version_major": 2,
       "version_minor": 0
      },
      "text/plain": [
       "  0%|          | 0/1000 [00:00<?, ?it/s]"
      ]
     },
     "metadata": {},
     "output_type": "display_data"
    }
   ],
   "source": [
    "pre_train['avg_word_len'] = [avg_word_length(text) for text in notebook.tqdm(pre_train['comment'])]\n",
    "pre_train['number_of_sen'] = [count_sentences(text) for text in notebook.tqdm(pre_train['comment'])]\n",
    "pre_train['avg_sen_len_in_words'] = [avg_sentence_length(text) for text in notebook.tqdm(pre_train['comment'])]\n",
    "pre_train['punctuation_count'] = [count_punctuation(text) for text in notebook.tqdm(pre_train['comment'])]\n",
    "pre_train['uppercase_let_count'] = [count_uppercase(text) for text in notebook.tqdm(pre_train['comment'])]\n",
    "pre_train['gunning_fog_score'] = [gunning_fog_s(text) for text in notebook.tqdm(pre_train['comment'])]\n",
    "pre_train['smog_score'] = [smog_s(text) for text in notebook.tqdm(pre_train['comment'])]\n",
    "pre_train['coleman_liau_score'] = [coleman_liau_s(text) for text in notebook.tqdm(pre_train['comment'])]\n",
    "pre_train['vader_compound_score'] = [vader_compound_score(text) for text in notebook.tqdm(pre_train['comment'])]"
   ]
  },
  {
   "cell_type": "markdown",
   "id": "86c21d06",
   "metadata": {},
   "source": [
    "Добавим столбцы с лемматизированным текстом"
   ]
  },
  {
   "cell_type": "code",
   "execution_count": 5,
   "id": "bde6ab76",
   "metadata": {},
   "outputs": [
    {
     "data": {
      "application/vnd.jupyter.widget-view+json": {
       "model_id": "9527974af538491d8ede0251b0762504",
       "version_major": 2,
       "version_minor": 0
      },
      "text/plain": [
       "  0%|          | 0/1000 [00:00<?, ?it/s]"
      ]
     },
     "metadata": {},
     "output_type": "display_data"
    },
    {
     "data": {
      "application/vnd.jupyter.widget-view+json": {
       "model_id": "0be14960efbb45ebbecf75047db563f5",
       "version_major": 2,
       "version_minor": 0
      },
      "text/plain": [
       "  0%|          | 0/1000 [00:00<?, ?it/s]"
      ]
     },
     "metadata": {},
     "output_type": "display_data"
    }
   ],
   "source": [
    "train = pre_train\n",
    "for row in notebook.tqdm(range(len(pre_train))):\n",
    "    train['comment'][row] = re.sub(r'[^a-zA-Z ]', ' ', pre_train['comment'][row])\n",
    "    train['comment'][row] = train['comment'][row].split()\n",
    "    train['comment'][row] = \" \".join(train['comment'][row])\n",
    "\n",
    "def get_wordnet_pos(word):\n",
    "    \"\"\"Map POS tag to first character lemmatize() accepts\"\"\"\n",
    "    tag = nltk.pos_tag([word])[0][1][0].upper()\n",
    "    tag_dict = {\"J\": wordnet.ADJ,\n",
    "                \"N\": wordnet.NOUN,\n",
    "                \"V\": wordnet.VERB,\n",
    "                \"R\": wordnet.ADV}\n",
    "    return tag_dict.get(tag, wordnet.NOUN)\n",
    "\n",
    "pre_train['lemm_comment'] = pre_train['comment']\n",
    "lemmatizer = WordNetLemmatizer()\n",
    "for row in notebook.tqdm(range(len(pre_train))):\n",
    "    pre_train['lemm_comment'][row] = nltk.word_tokenize(train['lemm_comment'][row])\n",
    "    pre_train['lemm_comment'][row] = ' '.join([lemmatizer.lemmatize(w, get_wordnet_pos(w)) for w in pre_train['lemm_comment'][row]])"
   ]
  },
  {
   "cell_type": "markdown",
   "id": "49624185",
   "metadata": {},
   "source": [
    "Добавим столбцы для которых требовалась лемматизация и удалим текстовые столбцы, предварительно сохранив получившийся датафрейм"
   ]
  },
  {
   "cell_type": "code",
   "execution_count": 6,
   "id": "aefb1747",
   "metadata": {},
   "outputs": [
    {
     "data": {
      "application/vnd.jupyter.widget-view+json": {
       "model_id": "e8746f5f0d2f448e92e4a1254675b990",
       "version_major": 2,
       "version_minor": 0
      },
      "text/plain": [
       "  0%|          | 0/1000 [00:00<?, ?it/s]"
      ]
     },
     "metadata": {},
     "output_type": "display_data"
    }
   ],
   "source": [
    "pre_train['comment_len'] = pre_train['comment'].str.len()\n",
    "pre_train['number_of_words'] = [count_words(text) for text in pre_train['comment']]\n",
    "pre_train[\"number_of_words\"] = pre_train[\"number_of_words\"].replace(0, np.nan).bfill()\n",
    "#pre_train['grammar'] = [count_grammar(text) for text in notebook.tqdm(pre_train['lemm_comment'])]\n",
    "pre_train['stop_words'] = [stop_words(text) for text in notebook.tqdm(pre_train['lemm_comment'])]\n",
    "pre_train['n_grams'] = pre_train['lemm_comment'].apply((count_n_grams))\n",
    "\n",
    "full_sample = pre_train.copy()\n",
    "pre_train.drop(columns=['comment', 'lemm_comment'], inplace=True)"
   ]
  },
  {
   "cell_type": "code",
   "execution_count": 7,
   "id": "0b33ecbd",
   "metadata": {},
   "outputs": [
    {
     "data": {
      "image/png": "[encoded data removed]",
      "text/plain": [
       "<Figure size 720x720 with 2 Axes>"
      ]
     },
     "metadata": {
      "needs_background": "light"
     },
     "output_type": "display_data"
    },
    {
     "data": {
      "text/plain": [
       "<Figure size 432x288 with 0 Axes>"
      ]
     },
     "metadata": {},
     "output_type": "display_data"
    }
   ],
   "source": [
    "corr_matrix = pre_train.corr()\n",
    "fig, ax = plt.subplots(figsize=(10, 10))\n",
    "sns.heatmap(corr_matrix, ax = ax, cmap='coolwarm', annot=True)\n",
    "plt.show()\n",
    "plt.savefig('res.png')"
   ]
  },
  {
   "cell_type": "markdown",
   "id": "a9ad772a",
   "metadata": {},
   "source": [
    "## Подготовим данные для Машинного обучения"
   ]
  },
  {
   "cell_type": "markdown",
   "id": "9a3b3eee",
   "metadata": {},
   "source": [
    "Сделаем тренировочную и валидацонную выборки "
   ]
  },
  {
   "cell_type": "code",
   "execution_count": 15,
   "id": "2ab57861",
   "metadata": {
    "scrolled": true
   },
   "outputs": [
    {
     "name": "stdout",
     "output_type": "stream",
     "text": [
      "(750, 14)/(750,)/(250, 14)/(250,)\n"
     ]
    }
   ],
   "source": [
    "def split_of_sample(sample):\n",
    "    return sample.drop(['score', 'comment'], axis=1), sample['score']\n",
    "train = full_sample.loc[:749]\n",
    "valid = full_sample.loc[750:]\n",
    "features_train, target_train = split_of_sample(train)\n",
    "features_valid, target_valid = split_of_sample(valid)\n",
    "\n",
    "target_train=target_train.astype('float64')\n",
    "target_valid=target_valid.astype('float64')\n",
    "print(f'{features_train.shape}/{target_train.shape}/{features_valid.shape}/{target_valid.shape}')"
   ]
  },
  {
   "cell_type": "code",
   "execution_count": 17,
   "id": "7b9257d8",
   "metadata": {},
   "outputs": [],
   "source": [
    "valid_index = features_valid.index\n",
    "pd_text = pd.Series(features_valid['lemm_comment'], index=valid_index)"
   ]
  },
  {
   "cell_type": "markdown",
   "id": "6eb6e356",
   "metadata": {},
   "source": [
    "Для обучения модели будем использовать модель BERT, так что лемматизация не потребуется. Инициализируем токенизатор как объект класса BertTokenizer(). Передадим ему аргумент vocab_file — это файл со словарём, на котором обучалась модель (взят с сайта: https://docs.deeppavlov.ai/en/master/features/models/bert.html, *BERT-base, English, cased, 12-layer, 768-hidden, 12-heads, 110M parameters*)."
   ]
  },
  {
   "cell_type": "code",
   "execution_count": 18,
   "id": "f7747088",
   "metadata": {},
   "outputs": [
    {
     "data": {
      "text/plain": [
       "(750, 512)"
      ]
     },
     "execution_count": 18,
     "metadata": {},
     "output_type": "execute_result"
    }
   ],
   "source": [
    "tokenizer = transformers.BertTokenizer(vocab_file='datasets/vocab_L.txt')\n",
    "tokenized_train = features_train['lemm_comment'].apply(\n",
    "    lambda x: tokenizer.encode(x, truncation=True, max_length=512, add_special_tokens = True))\n",
    "\n",
    "max_len = 0\n",
    "for i in tokenized_train.values:\n",
    "    if len(i) > max_len:\n",
    "        max_len = len(i)\n",
    "\n",
    "padded_train = np.array([i + [0]*(max_len - len(i)) for i in tokenized_train.values])\n",
    "\n",
    "attention_mask_train = np.where(padded_train != 0, 1, 0)\n",
    "attention_mask_train.shape"
   ]
  },
  {
   "cell_type": "markdown",
   "id": "1ec7375d",
   "metadata": {},
   "source": [
    "Инициализируем конфигурацию BertConfig. В качестве аргумента передадим ей JSON-файл с описанием настроек модели.\n",
    "Затем инициализируем саму модель класса BertModel. Передадим ей файл с предобученной моделью и конфигурацией (все файлы взяты с сайта: https://huggingface.co/bert-base-uncased/tree/main):"
   ]
  },
  {
   "cell_type": "code",
   "execution_count": 19,
   "id": "03d9ab4c",
   "metadata": {},
   "outputs": [
    {
     "name": "stderr",
     "output_type": "stream",
     "text": [
      "Some weights of the model checkpoint at datasets/pytorch_model.bin were not used when initializing BertModel: ['cls.predictions.transform.LayerNorm.bias', 'cls.predictions.transform.dense.weight', 'cls.predictions.transform.dense.bias', 'cls.predictions.decoder.weight', 'cls.seq_relationship.weight', 'cls.predictions.transform.LayerNorm.weight', 'cls.predictions.bias', 'cls.seq_relationship.bias']\n",
      "- This IS expected if you are initializing BertModel from the checkpoint of a model trained on another task or with another architecture (e.g. initializing a BertForSequenceClassification model from a BertForPreTraining model).\n",
      "- This IS NOT expected if you are initializing BertModel from the checkpoint of a model that you expect to be exactly identical (initializing a BertForSequenceClassification model from a BertForSequenceClassification model).\n"
     ]
    }
   ],
   "source": [
    "config = transformers.BertConfig.from_json_file('datasets/config.json')\n",
    "model = transformers.BertModel.from_pretrained('datasets/pytorch_model.bin', config=config)"
   ]
  },
  {
   "cell_type": "markdown",
   "id": "85d84114",
   "metadata": {},
   "source": [
    "Начнём преобразование текстов в эмбеддинги. Это может занять несколько минут, поэтому подключим библиотеку tqdm. Она нужна, чтобы наглядно показать индикатор прогресса."
   ]
  },
  {
   "cell_type": "code",
   "execution_count": 45,
   "id": "d12aa3c9",
   "metadata": {},
   "outputs": [
    {
     "data": {
      "application/vnd.jupyter.widget-view+json": {
       "model_id": "43cd8796d26b4b08a14909929538c07f",
       "version_major": 2,
       "version_minor": 0
      },
      "text/plain": [
       "  0%|          | 0/15 [00:00<?, ?it/s]"
      ]
     },
     "metadata": {},
     "output_type": "display_data"
    }
   ],
   "source": [
    "batch_size = 50        # Чтобы хватило оперативной памяти, сделаем размер батча небольшим\n",
    "embeddings = []\n",
    "for i in notebook.tqdm(range(padded_train.shape[0] // batch_size)):        # Сделаем цикл по батчам\n",
    "    batch = torch.LongTensor(padded_train[batch_size*i:batch_size*(i+1)])\n",
    "    attention_mask_train_batch = torch.LongTensor(attention_mask_train[batch_size*i:batch_size*(i+1)])\n",
    "    \n",
    "    with torch.no_grad():        #Для ускорения вычисления функцией no_grad() в библиотеке torch укажем, что градиенты не нужны: модель BERT обучать не будем.\n",
    "        batch_embeddings = model(batch, attention_mask=attention_mask_train_batch)        # Чтобы получить эмбеддинги для батча, передадим модели данные и маску:\n",
    "        \n",
    "    embeddings.append(batch_embeddings[0][:,0,:].numpy())"
   ]
  },
  {
   "cell_type": "code",
   "execution_count": 47,
   "id": "edf51e93",
   "metadata": {},
   "outputs": [],
   "source": [
    "features_train_emb = pd.DataFrame(np.concatenate(embeddings), index=features_train.index)\n",
    "features_train_full = features_train_emb.join(features_train, how='outer').drop('lemm_comment', axis=1)"
   ]
  },
  {
   "cell_type": "markdown",
   "id": "be425975",
   "metadata": {},
   "source": [
    "Сделаем то же самое с валидационной выборкой"
   ]
  },
  {
   "cell_type": "code",
   "execution_count": 48,
   "id": "65d12f83",
   "metadata": {},
   "outputs": [
    {
     "data": {
      "application/vnd.jupyter.widget-view+json": {
       "model_id": "b18ca2ef164946b2b8f088713f873683",
       "version_major": 2,
       "version_minor": 0
      },
      "text/plain": [
       "  0%|          | 0/5 [00:00<?, ?it/s]"
      ]
     },
     "metadata": {},
     "output_type": "display_data"
    }
   ],
   "source": [
    "tokenizer = transformers.BertTokenizer(vocab_file='datasets/vocab_L.txt')\n",
    "tokenized_valid = features_valid['lemm_comment'].apply(\n",
    "    lambda x: tokenizer.encode(x, truncation=True, max_length=512, add_special_tokens = True))\n",
    "\n",
    "max_len = 0\n",
    "for i in tokenized_valid.values:\n",
    "    if len(i) > max_len:\n",
    "        max_len = len(i)\n",
    "\n",
    "padded_valid = np.array([i + [0]*(max_len - len(i)) for i in tokenized_valid.values])\n",
    "\n",
    "attention_mask_valid = np.where(padded_valid != 0, 1, 0)\n",
    "attention_mask_valid.shape\n",
    "\n",
    "embeddings = []\n",
    "for i in notebook.tqdm(range(padded_valid.shape[0] // batch_size)):        # Сделаем цикл по батчам\n",
    "    batch = torch.LongTensor(padded_valid[batch_size*i:batch_size*(i+1)])\n",
    "    attention_mask_valid_batch = torch.LongTensor(attention_mask_valid[batch_size*i:batch_size*(i+1)])\n",
    "    \n",
    "    with torch.no_grad():        #Для ускорения вычисления функцией no_grad() в библиотеке torch укажем, что градиенты не нужны: модель BERT обучать не будем.\n",
    "        batch_embeddings = model(batch, attention_mask=attention_mask_valid_batch)        # Чтобы получить эмбеддинги для батча, передадим модели данные и маску:\n",
    "        \n",
    "    embeddings.append(batch_embeddings[0][:,0,:].numpy())\n",
    "\n",
    "features_valid_emb = pd.DataFrame(np.concatenate(embeddings), index=valid_index)\n",
    "features_valid_full = pd.merge(features_valid, features_valid_emb, how='outer').drop('lemm_comment', axis=1)"
   ]
  },
  {
   "cell_type": "code",
   "execution_count": 49,
   "id": "c78535f0",
   "metadata": {},
   "outputs": [],
   "source": [
    "features_valid_emb = pd.DataFrame(np.concatenate(embeddings), index=valid_index)\n",
    "features_valid_full = pd.merge(features_valid, features_valid_emb, how='outer').drop('lemm_comment', axis=1)"
   ]
  },
  {
   "cell_type": "markdown",
   "id": "a5394e44",
   "metadata": {},
   "source": [
    "## Обучение модели CatBoostRegressor"
   ]
  },
  {
   "cell_type": "code",
   "execution_count": 50,
   "id": "8cd47f9e",
   "metadata": {},
   "outputs": [
    {
     "name": "stdout",
     "output_type": "stream",
     "text": [
      "0:\tlearn: 1.1011991\ttotal: 756ms\tremaining: 12m 35s\n",
      "100:\tlearn: 0.0446391\ttotal: 36.2s\tremaining: 5m 21s\n",
      "200:\tlearn: 0.0101843\ttotal: 1m 11s\tremaining: 4m 42s\n",
      "300:\tlearn: 0.0034043\ttotal: 1m 45s\tremaining: 4m 6s\n",
      "400:\tlearn: 0.0013923\ttotal: 2m 20s\tremaining: 3m 30s\n",
      "500:\tlearn: 0.0003855\ttotal: 2m 55s\tremaining: 2m 54s\n",
      "600:\tlearn: 0.0001103\ttotal: 3m 30s\tremaining: 2m 19s\n",
      "700:\tlearn: 0.0000336\ttotal: 4m 5s\tremaining: 1m 44s\n",
      "800:\tlearn: 0.0000111\ttotal: 4m 39s\tremaining: 1m 9s\n",
      "900:\tlearn: 0.0000027\ttotal: 5m 14s\tremaining: 34.6s\n",
      "999:\tlearn: 0.0000007\ttotal: 5m 49s\tremaining: 0us\n"
     ]
    },
    {
     "data": {
      "text/plain": [
       "<catboost.core.CatBoostRegressor at 0x2545813e2e0>"
      ]
     },
     "execution_count": 50,
     "metadata": {},
     "output_type": "execute_result"
    }
   ],
   "source": [
    "final_cat = CatBoostRegressor(depth=8, \n",
    "                              learning_rate=0.3,\n",
    "                              loss_function='MAE',verbose=100)\n",
    "final_cat.fit(Pool(features_train_full, target_train))"
   ]
  },
  {
   "cell_type": "markdown",
   "id": "989d9288",
   "metadata": {},
   "source": [
    "Сделаем предсказания на валидационной выборке"
   ]
  },
  {
   "cell_type": "code",
   "execution_count": 51,
   "id": "807a0258",
   "metadata": {},
   "outputs": [],
   "source": [
    "predictions = pd.Series(final_cat.predict(features_valid_full))\n",
    "features_valid = pd.DataFrame(features_valid_full)\n",
    "features_valid['score'] = predictions"
   ]
  },
  {
   "cell_type": "markdown",
   "id": "63cd921e",
   "metadata": {},
   "source": [
    "Рассчитаем метрику accuracy, чтобы понять качество предсказания"
   ]
  },
  {
   "cell_type": "code",
   "execution_count": 63,
   "id": "e11c42d6",
   "metadata": {},
   "outputs": [
    {
     "data": {
      "text/plain": [
       "0.256"
      ]
     },
     "execution_count": 63,
     "metadata": {},
     "output_type": "execute_result"
    }
   ],
   "source": [
    "accuracy_score((features_valid['score']).astype('int64'), target_valid)"
   ]
  }
 ],
 "metadata": {
  "kernelspec": {
   "display_name": "Python 3 (ipykernel)",
   "language": "python",
   "name": "python3"
  },
  "language_info": {
   "codemirror_mode": {
    "name": "ipython",
    "version": 3
   },
   "file_extension": ".py",
   "mimetype": "text/x-python",
   "name": "python",
   "nbconvert_exporter": "python",
   "pygments_lexer": "ipython3",
   "version": "3.9.7"
  }
 },
 "nbformat": 4,
 "nbformat_minor": 5
}
